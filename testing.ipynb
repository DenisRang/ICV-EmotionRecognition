{
 "cells": [
  {
   "cell_type": "code",
   "execution_count": null,
   "metadata": {
    "scrolled": true
   },
   "outputs": [],
   "source": [
    "pip install tensorflow keras"
   ]
  },
  {
   "cell_type": "code",
   "execution_count": 1,
   "metadata": {},
   "outputs": [],
   "source": [
    "from pprint import pprint as pp"
   ]
  },
  {
   "cell_type": "code",
   "execution_count": 24,
   "metadata": {
    "pycharm": {
     "name": "#%%\n"
    },
    "scrolled": false
   },
   "outputs": [
    {
     "name": "stdout",
     "output_type": "stream",
     "text": [
      "Removed subject: data/CK+/Emotion/S005, Subject lefts: 117\n",
      "Removed subject: data/CK+/Emotion/S147, Subject lefts: 116\n",
      "Removed subject: data/CK+/Emotion/S151, Subject lefts: 115\n",
      "Removed subject: data/CK+/Emotion/S122, Subject lefts: 114\n",
      "Removed subject: data/CK+/Emotion/S155, Subject lefts: 113\n",
      "Removed subject: data/CK+/Emotion/S110, Subject lefts: 112\n",
      "Removed subject: data/CK+/Emotion/S158, Subject lefts: 111\n",
      "Removed subject: data/CK+/Emotion/S112, Subject lefts: 110\n",
      "Removed subject: data/CK+/Emotion/S028, Subject lefts: 109\n",
      "Removed subject: data/CK+/Emotion/S139, Subject lefts: 108\n",
      "Removed subject: data/CK+/Emotion/S154, Subject lefts: 107\n",
      "Removed subject: data/CK+/Emotion/S895, Subject lefts: 106\n",
      "Removed subject: data/CK+/Emotion/S083, Subject lefts: 105\n",
      "Removed subject: data/CK+/Emotion/S105, Subject lefts: 104\n",
      "Removed subject: data/CK+/Emotion/S157, Subject lefts: 103\n",
      "Removed subject: data/CK+/Emotion/S135, Subject lefts: 102\n",
      "Removed subject: data/CK+/Emotion/S086, Subject lefts: 101\n",
      "Removed subject: data/CK+/Emotion/S088, Subject lefts: 100\n",
      "Removed subject: data/CK+/Emotion/S098, Subject lefts: 99\n",
      "Removed subject: data/CK+/Emotion/S148, Subject lefts: 98\n",
      "Removed subject: data/CK+/Emotion/S077, Subject lefts: 97\n",
      "Removed subject: data/CK+/Emotion/S101, Subject lefts: 96\n",
      "Removed subject: data/CK+/Emotion/S116, Subject lefts: 95\n",
      "Removed subject: data/CK+/Emotion/S045, Subject lefts: 94\n",
      "Removed subject: data/CK+/Emotion/S505, Subject lefts: 93\n",
      "Removed subject: data/CK+/Emotion/S094, Subject lefts: 92\n",
      "Removed subject: data/CK+/Emotion/S109, Subject lefts: 91\n",
      "Removed subject: data/CK+/Emotion/S096, Subject lefts: 90\n",
      "Removed subject: data/CK+/Emotion/S114, Subject lefts: 89\n",
      "Removed subject: data/CK+/Emotion/S160, Subject lefts: 88\n",
      "Removed subject: data/CK+/Emotion/S029, Subject lefts: 87\n",
      "Removed subject: data/CK+/Emotion/S072, Subject lefts: 86\n",
      "Removed subject: data/CK+/Emotion/S084, Subject lefts: 85\n",
      "Removed subject: data/CK+/Emotion/S054, Subject lefts: 84\n",
      "Removed subject: data/CK+/Emotion/S064, Subject lefts: 83\n",
      "Removed subject: data/CK+/Emotion/S090, Subject lefts: 82\n",
      "Removed subject: data/CK+/Emotion/S107, Subject lefts: 81\n",
      "Removed subject: data/CK+/Emotion/S127, Subject lefts: 80\n",
      "Removed subject: data/CK+/Emotion/S035, Subject lefts: 79\n",
      "Removed subject: data/CK+/Emotion/S056, Subject lefts: 78\n",
      "Removed subject: data/CK+/Emotion/S079, Subject lefts: 77\n",
      "Removed subject: data/CK+/Emotion/S133, Subject lefts: 76\n",
      "Removed subject: data/CK+/Emotion/S504, Subject lefts: 75\n",
      "Removed subject: data/CK+/Emotion/S059, Subject lefts: 74\n",
      "Removed subject: data/CK+/Emotion/S070, Subject lefts: 73\n",
      "Removed subject: data/CK+/Emotion/S126, Subject lefts: 72\n",
      "Removed subject: data/CK+/Emotion/S149, Subject lefts: 71\n",
      "Removed subject: data/CK+/Emotion/S044, Subject lefts: 70\n",
      "Removed subject: data/CK+/Emotion/S063, Subject lefts: 69\n",
      "Removed subject: data/CK+/Emotion/S076, Subject lefts: 68\n",
      "Removed subject: data/CK+/Emotion/S093, Subject lefts: 67\n",
      "Removed subject: data/CK+/Emotion/S051, Subject lefts: 66\n",
      "Removed subject: data/CK+/Emotion/S156, Subject lefts: 65\n",
      "Removed subject: data/CK+/Emotion/S053, Subject lefts: 64\n",
      "Removed subject: data/CK+/Emotion/S085, Subject lefts: 63\n",
      "Removed subject: data/CK+/Emotion/S022, Subject lefts: 62\n",
      "Removed subject: data/CK+/Emotion/S057, Subject lefts: 61\n",
      "Removed subject: data/CK+/Emotion/S091, Subject lefts: 60\n",
      "Removed subject: data/CK+/Emotion/S061, Subject lefts: 59\n",
      "Removed subject: data/CK+/Emotion/S099, Subject lefts: 58\n",
      "Removed subject: data/CK+/Emotion/S034, Subject lefts: 57\n",
      "Removed subject: data/CK+/Emotion/S106, Subject lefts: 56\n",
      "Removed subject: data/CK+/Emotion/S503, Subject lefts: 55\n",
      "Removed subject: data/CK+/Emotion/S042, Subject lefts: 54\n",
      "Removed subject: data/CK+/Emotion/S067, Subject lefts: 53\n",
      "Removed subject: data/CK+/Emotion/S082, Subject lefts: 52\n",
      "Removed subject: data/CK+/Emotion/S113, Subject lefts: 51\n",
      "Removed subject: data/CK+/Emotion/S050, Subject lefts: 50\n",
      "Removed subject: data/CK+/Emotion/S125, Subject lefts: 49\n",
      "Removed subject: data/CK+/Emotion/S501, Subject lefts: 48\n",
      "Removed subject: data/CK+/Emotion/S074, Subject lefts: 47\n",
      "Removed subject: data/CK+/Emotion/S100, Subject lefts: 46\n",
      "Removed subject: data/CK+/Emotion/S058, Subject lefts: 45\n",
      "Removed subject: data/CK+/Emotion/S010, Subject lefts: 44\n",
      "Removed subject: data/CK+/Emotion/S081, Subject lefts: 43\n",
      "Removed subject: data/CK+/Emotion/S117, Subject lefts: 42\n",
      "Removed subject: data/CK+/Emotion/S137, Subject lefts: 41\n",
      "Removed subject: data/CK+/Emotion/S014, Subject lefts: 40\n",
      "Removed subject: data/CK+/Emotion/S066, Subject lefts: 39\n",
      "Removed subject: data/CK+/Emotion/S092, Subject lefts: 38\n",
      "Removed subject: data/CK+/Emotion/S129, Subject lefts: 37\n",
      "Removed subject: data/CK+/Emotion/S108, Subject lefts: 36\n",
      "Removed subject: data/CK+/Emotion/S073, Subject lefts: 35\n",
      "Removed subject: data/CK+/Emotion/S078, Subject lefts: 34\n",
      "Removed subject: data/CK+/Emotion/S999, Subject lefts: 33\n",
      "Removed subject: data/CK+/Emotion/S052, Subject lefts: 32\n",
      "Removed subject: data/CK+/Emotion/S060, Subject lefts: 31\n",
      "Removed subject: data/CK+/Emotion/S095, Subject lefts: 30\n",
      "Removed subject: data/CK+/Emotion/S132, Subject lefts: 29\n",
      "Removed subject: data/CK+/Emotion/S111, Subject lefts: 28\n",
      "Removed subject: data/CK+/Emotion/S502, Subject lefts: 27\n",
      "Removed subject: data/CK+/Emotion/S068, Subject lefts: 26\n",
      "Removed subject: data/CK+/Emotion/S119, Subject lefts: 25\n",
      "Removed subject: data/CK+/Emotion/S071, Subject lefts: 24\n",
      "Removed subject: data/CK+/Emotion/S130, Subject lefts: 23\n",
      "Removed subject: data/CK+/Emotion/S080, Subject lefts: 22\n",
      "Removed subject: data/CK+/Emotion/S037, Subject lefts: 21\n",
      "Removed subject: data/CK+/Emotion/S102, Subject lefts: 20\n",
      "Removed subject: data/CK+/Emotion/S128, Subject lefts: 19\n",
      "Removed subject: data/CK+/Emotion/S062, Subject lefts: 18\n",
      "Removed subject: data/CK+/Emotion/S134, Subject lefts: 17\n",
      "Removed subject: data/CK+/Emotion/S506, Subject lefts: 16\n",
      "Removed subject: data/CK+/Emotion/S075, Subject lefts: 15\n",
      "Removed subject: data/CK+/Emotion/S089, Subject lefts: 14\n",
      "Removed subject: data/CK+/Emotion/S115, Subject lefts: 13\n",
      "Removed subject: data/CK+/Emotion/S131, Subject lefts: 12\n",
      "Removed subject: data/CK+/Emotion/S026, Subject lefts: 11\n",
      "Removed subject: data/CK+/Emotion/S065, Subject lefts: 10\n",
      "Removed subject: data/CK+/Emotion/S097, Subject lefts: 9\n",
      "Removed subject: data/CK+/Emotion/S136, Subject lefts: 8\n",
      "Removed subject: data/CK+/Emotion/S011, Subject lefts: 7\n",
      "Removed subject: data/CK+/Emotion/S046, Subject lefts: 6\n",
      "Removed subject: data/CK+/Emotion/S069, Subject lefts: 5\n",
      "Removed subject: data/CK+/Emotion/S138, Subject lefts: 4\n",
      "Removed subject: data/CK+/Emotion/S032, Subject lefts: 3\n",
      "Removed subject: data/CK+/Emotion/S087, Subject lefts: 2\n",
      "Removed subject: data/CK+/Emotion/S055, Subject lefts: 1\n",
      "Removed subject: data/CK+/Emotion/S124, Subject lefts: 0\n"
     ]
    }
   ],
   "source": [
    "%run extract_data.py"
   ]
  },
  {
   "cell_type": "code",
   "execution_count": 35,
   "metadata": {},
   "outputs": [
    {
     "data": {
      "image/png": "[encoded data removed]",
      "text/plain": [
       "<Figure size 432x288 with 1 Axes>"
      ]
     },
     "metadata": {
      "needs_background": "light"
     },
     "output_type": "display_data"
    }
   ],
   "source": [
    "from extract_image import show_relevant_image\n",
    "show_relevant_image(x[15])"
   ]
  },
  {
   "cell_type": "code",
   "execution_count": 2,
   "metadata": {
    "pycharm": {
     "is_executing": false
    },
    "scrolled": false
   },
   "outputs": [
    {
     "name": "stdout",
     "text": [
      "WARNING:tensorflow:From /Users/denisrangulov/PycharmProjects/EmotionRecognition/cnn.py:7: The name tf.keras.initializers.RandomNormal is deprecated. Please use tf.compat.v1.keras.initializers.RandomNormal instead.\n\n",
      "1.14.0\n2.2.4-tf\n",
      "WARNING:tensorflow:From /Users/denisrangulov/PycharmProjects/EmotionRecognition/venv/lib/python3.7/site-packages/tensorflow/python/keras/initializers.py:143: calling RandomNormal.__init__ (from tensorflow.python.ops.init_ops) with dtype is deprecated and will be removed in a future version.\nInstructions for updating:\nCall initializer instance with the dtype argument instead of passing it to the constructor\n",
      "WARNING:tensorflow:From /Users/denisrangulov/PycharmProjects/EmotionRecognition/venv/lib/python3.7/site-packages/tensorflow/python/ops/init_ops.py:1251: calling VarianceScaling.__init__ (from tensorflow.python.ops.init_ops) with dtype is deprecated and will be removed in a future version.\nInstructions for updating:\nCall initializer instance with the dtype argument instead of passing it to the constructor\n",
      "Model: \"sequential\"\n_________________________________________________________________\nLayer (type)                 Output Shape              Param #   \n=================================================================\nbatch_normalization (BatchNo (None, 96, 96, 1)         4         \n_________________________________________________________________\nconv2d (Conv2D)              (None, 96, 96, 64)        1600      \n_________________________________________________________________\nmax_pooling2d (MaxPooling2D) (None, 48, 48, 64)        0         \n_________________________________________________________________\nconv2d_1 (Conv2D)            (None, 44, 44, 128)       204800    \n_________________________________________________________________\nmax_pooling2d_1 (MaxPooling2 (None, 22, 22, 128)       0         \n_________________________________________________________________\nconv2d_2 (Conv2D)            (None, 18, 18, 256)       819200    \n_________________________________________________________________\nmax_pooling2d_2 (MaxPooling2 (None, 9, 9, 256)         0         \n_________________________________________________________________\nflatten (Flatten)            (None, 20736)             0         \n_________________________________________________________________\ndense (Dense)                (None, 300)               6221100   \n_________________________________________________________________\ndropout (Dropout)            (None, 300)               0         \n_________________________________________________________________\ndense_1 (Dense)              (None, 8)                 2408      \n=================================================================\nTotal params: 7,249,112\nTrainable params: 7,249,110\nNon-trainable params: 2\n_________________________________________________________________\nUsing real-time data augmentation.\n",
      "Epoch 1/5\n",
      "\r 1/17 [>.............................] - ETA: 33s - loss: 2.1339 - acc: 0.0312",
      "\b\b\b\b\b\b\b\b\b\b\b\b\b\b\b\b\b\b\b\b\b\b\b\b\b\b\b\b\b\b\b\b\b\b\b\b\b\b\b\b\b\b\b\b\b\b\b\b\b\b\b\b\b\b\b\b\b\b\b\b\b\b\b\b\b\b\b\b\b\b\b\b\b\b\b\b\b\b\r 2/17 [==>...........................] - ETA: 25s - loss: 2.0730 - acc: 0.1172",
      "\b\b\b\b\b\b\b\b\b\b\b\b\b\b\b\b\b\b\b\b\b\b\b\b\b\b\b\b\b\b\b\b\b\b\b\b\b\b\b\b\b\b\b\b\b\b\b\b\b\b\b\b\b\b\b\b\b\b\b\b\b\b\b\b\b\b\b\b\b\b\b\b\b\b\b\b\b\b\r 3/17 [====>.........................] - ETA: 22s - loss: 2.0155 - acc: 0.1458",
      "\b\b\b\b\b\b\b\b\b\b\b\b\b\b\b\b\b\b\b\b\b\b\b\b\b\b\b\b\b\b\b\b\b\b\b\b\b\b\b\b\b\b\b\b\b\b\b\b\b\b\b\b\b\b\b\b\b\b\b\b\b\b\b\b\b\b\b\b\b\b\b\b\b\b\b\b\b\b\r 4/17 [======>.......................] - ETA: 20s - loss: 1.9890 - acc: 0.1719",
      "\b\b\b\b\b\b\b\b\b\b\b\b\b\b\b\b\b\b\b\b\b\b\b\b\b\b\b\b\b\b\b\b\b\b\b\b\b\b\b\b\b\b\b\b\b\b\b\b\b\b\b\b\b\b\b\b\b\b\b\b\b\b\b\b\b\b\b\b\b\b\b\b\b\b\b\b\b\b\r 5/17 [=======>......................] - ETA: 18s - loss: 2.0058 - acc: 0.1656",
      "\b\b\b\b\b\b\b\b\b\b\b\b\b\b\b\b\b\b\b\b\b\b\b\b\b\b\b\b\b\b\b\b\b\b\b\b\b\b\b\b\b\b\b\b\b\b\b\b\b\b\b\b\b\b\b\b\b\b\b\b\b\b\b\b\b\b\b\b\b\b\b\b\b\b\b\b\b\b\r 6/17 [=========>....................] - ETA: 15s - loss: 1.9423 - acc: 0.1696",
      "\b\b\b\b\b\b\b\b\b\b\b\b\b\b\b\b\b\b\b\b\b\b\b\b\b\b\b\b\b\b\b\b\b\b\b\b\b\b\b\b\b\b\b\b\b\b\b\b\b\b\b\b\b\b\b\b\b\b\b\b\b\b\b\b\b\b\b\b\b\b\b\b\b\b\b\b\b\b\r 7/17 [===========>..................] - ETA: 13s - loss: 1.9317 - acc: 0.1847",
      "\b\b\b\b\b\b\b\b\b\b\b\b\b\b\b\b\b\b\b\b\b\b\b\b\b\b\b\b\b\b\b\b\b\b\b\b\b\b\b\b\b\b\b\b\b\b\b\b\b\b\b\b\b\b\b\b\b\b\b\b\b\b\b\b\b\b\b\b\b\b\b\b\b\b\b\b\b\b\r 8/17 [=============>................] - ETA: 12s - loss: 1.9303 - acc: 0.1957",
      "\b\b\b\b\b\b\b\b\b\b\b\b\b\b\b\b\b\b\b\b\b\b\b\b\b\b\b\b\b\b\b\b\b\b\b\b\b\b\b\b\b\b\b\b\b\b\b\b\b\b\b\b\b\b\b\b\b\b\b\b\b\b\b\b\b\b\b\b\b\b\b\b\b\b\b\b\b\b\r 9/17 [==============>...............] - ETA: 11s - loss: 1.9207 - acc: 0.2004",
      "\b\b\b\b\b\b\b\b\b\b\b\b\b\b\b\b\b\b\b\b\b\b\b\b\b\b\b\b\b\b\b\b\b\b\b\b\b\b\b\b\b\b\b\b\b\b\b\b\b\b\b\b\b\b\b\b\b\b\b\b\b\b\b\b\b\b\b\b\b\b\b\b\b\b\b\b\b\b\r10/17 [================>.............] - ETA: 9s - loss: 1.9000 - acc: 0.2057 ",
      "\b\b\b\b\b\b\b\b\b\b\b\b\b\b\b\b\b\b\b\b\b\b\b\b\b\b\b\b\b\b\b\b\b\b\b\b\b\b\b\b\b\b\b\b\b\b\b\b\b\b\b\b\b\b\b\b\b\b\b\b\b\b\b\b\b\b\b\b\b\b\b\b\b\b\b\b\b\r11/17 [==================>...........] - ETA: 8s - loss: 1.8920 - acc: 0.2145",
      "\b\b\b\b\b\b\b\b\b\b\b\b\b\b\b\b\b\b\b\b\b\b\b\b\b\b\b\b\b\b\b\b\b\b\b\b\b\b\b\b\b\b\b\b\b\b\b\b\b\b\b\b\b\b\b\b\b\b\b\b\b\b\b\b\b\b\b\b\b\b\b\b\b\b\b\b\b\r12/17 [====================>.........] - ETA: 7s - loss: 1.8937 - acc: 0.2149",
      "\b\b\b\b\b\b\b\b\b\b\b\b\b\b\b\b\b\b\b\b\b\b\b\b\b\b\b\b\b\b\b\b\b\b\b\b\b\b\b\b\b\b\b\b\b\b\b\b\b\b\b\b\b\b\b\b\b\b\b\b\b\b\b\b\b\b\b\b\b\b\b\b\b\b\b\b\b\r13/17 [=====================>........] - ETA: 5s - loss: 1.8858 - acc: 0.2165",
      "\b\b\b\b\b\b\b\b\b\b\b\b\b\b\b\b\b\b\b\b\b\b\b\b\b\b\b\b\b\b\b\b\b\b\b\b\b\b\b\b\b\b\b\b\b\b\b\b\b\b\b\b\b\b\b\b\b\b\b\b\b\b\b\b\b\b\b\b\b\b\b\b\b\b\b\b\b\r14/17 [=======================>......] - ETA: 4s - loss: 1.8825 - acc: 0.2201",
      "\b\b\b\b\b\b\b\b\b\b\b\b\b\b\b\b\b\b\b\b\b\b\b\b\b\b\b\b\b\b\b\b\b\b\b\b\b\b\b\b\b\b\b\b\b\b\b\b\b\b\b\b\b\b\b\b\b\b\b\b\b\b\b\b\b\b\b\b\b\b\b\b\b\b\b\b\b\r15/17 [=========================>....] - ETA: 2s - loss: 1.8793 - acc: 0.2222",
      "\b\b\b\b\b\b\b\b\b\b\b\b\b\b\b\b\b\b\b\b\b\b\b\b\b\b\b\b\b\b\b\b\b\b\b\b\b\b\b\b\b\b\b\b\b\b\b\b\b\b\b\b\b\b\b\b\b\b\b\b\b\b\b\b\b\b\b\b\b\b\b\b\b\b\b\b\b\r16/17 [===========================>..] - ETA: 1s - loss: 1.8673 - acc: 0.2281",
      "\b\b\b\b\b\b\b\b\b\b\b\b\b\b\b\b\b\b\b\b\b\b\b\b\b\b\b\b\b\b\b\b\b\b\b\b\b\b\b\b\b\b\b\b\b\b\b\b\b\b\b\b\b\b\b\b\b\b\b\b\b\b\b\b\b\b\b\b\b\b\b\b\b\b\b\b\b\r17/17 [==============================] - 25s 1s/step - loss: 1.8657 - acc: 0.2314 - val_loss: 1.6538 - val_acc: 0.3282\n",
      "Epoch 2/5\n",
      "\r 1/17 [>.............................] - ETA: 25s - loss: 1.9416 - acc: 0.1250",
      "\b\b\b\b\b\b\b\b\b\b\b\b\b\b\b\b\b\b\b\b\b\b\b\b\b\b\b\b\b\b\b\b\b\b\b\b\b\b\b\b\b\b\b\b\b\b\b\b\b\b\b\b\b\b\b\b\b\b\b\b\b\b\b\b\b\b\b\b\b\b\b\b\b\b\b\b\b\b\r 2/17 [==>...........................] - ETA: 15s - loss: 1.8728 - acc: 0.1395",
      "\b\b\b\b\b\b\b\b\b\b\b\b\b\b\b\b\b\b\b\b\b\b\b\b\b\b\b\b\b\b\b\b\b\b\b\b\b\b\b\b\b\b\b\b\b\b\b\b\b\b\b\b\b\b\b\b\b\b\b\b\b\b\b\b\b\b\b\b\b\b\b\b\b\b\b\b\b\b\r 3/17 [====>.........................] - ETA: 17s - loss: 1.8324 - acc: 0.1867",
      "\b\b\b\b\b\b\b\b\b\b\b\b\b\b\b\b\b\b\b\b\b\b\b\b\b\b\b\b\b\b\b\b\b\b\b\b\b\b\b\b\b\b\b\b\b\b\b\b\b\b\b\b\b\b\b\b\b\b\b\b\b\b\b\b\b\b\b\b\b\b\b\b\b\b\b\b\b\b\r 4/17 [======>.......................] - ETA: 16s - loss: 1.8142 - acc: 0.2103",
      "\b\b\b\b\b\b\b\b\b\b\b\b\b\b\b\b\b\b\b\b\b\b\b\b\b\b\b\b\b\b\b\b\b\b\b\b\b\b\b\b\b\b\b\b\b\b\b\b\b\b\b\b\b\b\b\b\b\b\b\b\b\b\b\b\b\b\b\b\b\b\b\b\b\b\b\b\b\b\r 5/17 [=======>......................] - ETA: 15s - loss: 1.8164 - acc: 0.2266",
      "\b\b\b\b\b\b\b\b\b\b\b\b\b\b\b\b\b\b\b\b\b\b\b\b\b\b\b\b\b\b\b\b\b\b\b\b\b\b\b\b\b\b\b\b\b\b\b\b\b\b\b\b\b\b\b\b\b\b\b\b\b\b\b\b\b\b\b\b\b\b\b\b\b\b\b\b\b\b\r 6/17 [=========>....................] - ETA: 15s - loss: 1.8091 - acc: 0.2281",
      "\b\b\b\b\b\b\b\b\b\b\b\b\b\b\b\b\b\b\b\b\b\b\b\b\b\b\b\b\b\b\b\b\b\b\b\b\b\b\b\b\b\b\b\b\b\b\b\b\b\b\b\b\b\b\b\b\b\b\b\b\b\b\b\b\b\b\b\b\b\b\b\b\b\b\b\b\b\b\r 7/17 [===========>..................] - ETA: 14s - loss: 1.8443 - acc: 0.2094",
      "\b\b\b\b\b\b\b\b\b\b\b\b\b\b\b\b\b\b\b\b\b\b\b\b\b\b\b\b\b\b\b\b\b\b\b\b\b\b\b\b\b\b\b\b\b\b\b\b\b\b\b\b\b\b\b\b\b\b\b\b\b\b\b\b\b\b\b\b\b\b\b\b\b\b\b\b\b\b\r 8/17 [=============>................] - ETA: 12s - loss: 1.8362 - acc: 0.2128",
      "\b\b\b\b\b\b\b\b\b\b\b\b\b\b\b\b\b\b\b\b\b\b\b\b\b\b\b\b\b\b\b\b\b\b\b\b\b\b\b\b\b\b\b\b\b\b\b\b\b\b\b\b\b\b\b\b\b\b\b\b\b\b\b\b\b\b\b\b\b\b\b\b\b\b\b\b\b\b\r 9/17 [==============>...............] - ETA: 11s - loss: 1.8306 - acc: 0.2022",
      "\b\b\b\b\b\b\b\b\b\b\b\b\b\b\b\b\b\b\b\b\b\b\b\b\b\b\b\b\b\b\b\b\b\b\b\b\b\b\b\b\b\b\b\b\b\b\b\b\b\b\b\b\b\b\b\b\b\b\b\b\b\b\b\b\b\b\b\b\b\b\b\b\b\b\b\b\b\b\r10/17 [================>.............] - ETA: 9s - loss: 1.8288 - acc: 0.2074 ",
      "\b\b\b\b\b\b\b\b\b\b\b\b\b\b\b\b\b\b\b\b\b\b\b\b\b\b\b\b\b\b\b\b\b\b\b\b\b\b\b\b\b\b\b\b\b\b\b\b\b\b\b\b\b\b\b\b\b\b\b\b\b\b\b\b\b\b\b\b\b\b\b\b\b\b\b\b\b\r11/17 [==================>...........] - ETA: 8s - loss: 1.8335 - acc: 0.2054",
      "\b\b\b\b\b\b\b\b\b\b\b\b\b\b\b\b\b\b\b\b\b\b\b\b\b\b\b\b\b\b\b\b\b\b\b\b\b\b\b\b\b\b\b\b\b\b\b\b\b\b\b\b\b\b\b\b\b\b\b\b\b\b\b\b\b\b\b\b\b\b\b\b\b\b\b\b\b\r12/17 [====================>.........] - ETA: 7s - loss: 1.8322 - acc: 0.2066",
      "\b\b\b\b\b\b\b\b\b\b\b\b\b\b\b\b\b\b\b\b\b\b\b\b\b\b\b\b\b\b\b\b\b\b\b\b\b\b\b\b\b\b\b\b\b\b\b\b\b\b\b\b\b\b\b\b\b\b\b\b\b\b\b\b\b\b\b\b\b\b\b\b\b\b\b\b\b\r13/17 [=====================>........] - ETA: 5s - loss: 1.8378 - acc: 0.2063",
      "\b\b\b\b\b\b\b\b\b\b\b\b\b\b\b\b\b\b\b\b\b\b\b\b\b\b\b\b\b\b\b\b\b\b\b\b\b\b\b\b\b\b\b\b\b\b\b\b\b\b\b\b\b\b\b\b\b\b\b\b\b\b\b\b\b\b\b\b\b\b\b\b\b\b\b\b\b\r14/17 [=======================>......] - ETA: 4s - loss: 1.8296 - acc: 0.2119",
      "\b\b\b\b\b\b\b\b\b\b\b\b\b\b\b\b\b\b\b\b\b\b\b\b\b\b\b\b\b\b\b\b\b\b\b\b\b\b\b\b\b\b\b\b\b\b\b\b\b\b\b\b\b\b\b\b\b\b\b\b\b\b\b\b\b\b\b\b\b\b\b\b\b\b\b\b\b\r15/17 [=========================>....] - ETA: 2s - loss: 1.8259 - acc: 0.2168",
      "\b\b\b\b\b\b\b\b\b\b\b\b\b\b\b\b\b\b\b\b\b\b\b\b\b\b\b\b\b\b\b\b\b\b\b\b\b\b\b\b\b\b\b\b\b\b\b\b\b\b\b\b\b\b\b\b\b\b\b\b\b\b\b\b\b\b\b\b\b\b\b\b\b\b\b\b\b\r16/17 [===========================>..] - ETA: 1s - loss: 1.8269 - acc: 0.2189",
      "\b\b\b\b\b\b\b\b\b\b\b\b\b\b\b\b\b\b\b\b\b\b\b\b\b\b\b\b\b\b\b\b\b\b\b\b\b\b\b\b\b\b\b\b\b\b\b\b\b\b\b\b\b\b\b\b\b\b\b\b\b\b\b\b\b\b\b\b\b\b\b\b\b\b\b\b\b\r17/17 [==============================] - 26s 2s/step - loss: 1.8243 - acc: 0.2208 - val_loss: 1.7952 - val_acc: 0.1985\n",
      "Epoch 3/5\n",
      "\r 1/17 [>.............................] - ETA: 24s - loss: 1.7080 - acc: 0.3750",
      "\b\b\b\b\b\b\b\b\b\b\b\b\b\b\b\b\b\b\b\b\b\b\b\b\b\b\b\b\b\b\b\b\b\b\b\b\b\b\b\b\b\b\b\b\b\b\b\b\b\b\b\b\b\b\b\b\b\b\b\b\b\b\b\b\b\b\b\b\b\b\b\b\b\b\b\b\b\b\r 2/17 [==>...........................] - ETA: 23s - loss: 1.7772 - acc: 0.3203",
      "\b\b\b\b\b\b\b\b\b\b\b\b\b\b\b\b\b\b\b\b\b\b\b\b\b\b\b\b\b\b\b\b\b\b\b\b\b\b\b\b\b\b\b\b\b\b\b\b\b\b\b\b\b\b\b\b\b\b\b\b\b\b\b\b\b\b\b\b\b\b\b\b\b\b\b\b\b\b\r 3/17 [====>.........................] - ETA: 21s - loss: 1.7730 - acc: 0.3073",
      "\b\b\b\b\b\b\b\b\b\b\b\b\b\b\b\b\b\b\b\b\b\b\b\b\b\b\b\b\b\b\b\b\b\b\b\b\b\b\b\b\b\b\b\b\b\b\b\b\b\b\b\b\b\b\b\b\b\b\b\b\b\b\b\b\b\b\b\b\b\b\b\b\b\b\b\b\b\b\r 4/17 [======>.......................] - ETA: 19s - loss: 1.7858 - acc: 0.3086",
      "\b\b\b\b\b\b\b\b\b\b\b\b\b\b\b\b\b\b\b\b\b\b\b\b\b\b\b\b\b\b\b\b\b\b\b\b\b\b\b\b\b\b\b\b\b\b\b\b\b\b\b\b\b\b\b\b\b\b\b\b\b\b\b\b\b\b\b\b\b\b\b\b\b\b\b\b\b\b\r 5/17 [=======>......................] - ETA: 18s - loss: 1.8014 - acc: 0.2875",
      "\b\b\b\b\b\b\b\b\b\b\b\b\b\b\b\b\b\b\b\b\b\b\b\b\b\b\b\b\b\b\b\b\b\b\b\b\b\b\b\b\b\b\b\b\b\b\b\b\b\b\b\b\b\b\b\b\b\b\b\b\b\b\b\b\b\b\b\b\b\b\b\b\b\b\b\b\b\b\r 6/17 [=========>....................] - ETA: 16s - loss: 1.7947 - acc: 0.2786",
      "\b\b\b\b\b\b\b\b\b\b\b\b\b\b\b\b\b\b\b\b\b\b\b\b\b\b\b\b\b\b\b\b\b\b\b\b\b\b\b\b\b\b\b\b\b\b\b\b\b\b\b\b\b\b\b\b\b\b\b\b\b\b\b\b\b\b\b\b\b\b\b\b\b\b\b\b\b\b\r 7/17 [===========>..................] - ETA: 13s - loss: 1.7569 - acc: 0.2882",
      "\b\b\b\b\b\b\b\b\b\b\b\b\b\b\b\b\b\b\b\b\b\b\b\b\b\b\b\b\b\b\b\b\b\b\b\b\b\b\b\b\b\b\b\b\b\b\b\b\b\b\b\b\b\b\b\b\b\b\b\b\b\b\b\b\b\b\b\b\b\b\b\b\b\b\b\b\b\b\r 8/17 [=============>................] - ETA: 12s - loss: 1.7869 - acc: 0.2766",
      "\b\b\b\b\b\b\b\b\b\b\b\b\b\b\b\b\b\b\b\b\b\b\b\b\b\b\b\b\b\b\b\b\b\b\b\b\b\b\b\b\b\b\b\b\b\b\b\b\b\b\b\b\b\b\b\b\b\b\b\b\b\b\b\b\b\b\b\b\b\b\b\b\b\b\b\b\b\b\r 9/17 [==============>...............] - ETA: 11s - loss: 1.7840 - acc: 0.2678",
      "\b\b\b\b\b\b\b\b\b\b\b\b\b\b\b\b\b\b\b\b\b\b\b\b\b\b\b\b\b\b\b\b\b\b\b\b\b\b\b\b\b\b\b\b\b\b\b\b\b\b\b\b\b\b\b\b\b\b\b\b\b\b\b\b\b\b\b\b\b\b\b\b\b\b\b\b\b\b\r10/17 [================>.............] - ETA: 9s - loss: 1.7799 - acc: 0.2676 ",
      "\b\b\b\b\b\b\b\b\b\b\b\b\b\b\b\b\b\b\b\b\b\b\b\b\b\b\b\b\b\b\b\b\b\b\b\b\b\b\b\b\b\b\b\b\b\b\b\b\b\b\b\b\b\b\b\b\b\b\b\b\b\b\b\b\b\b\b\b\b\b\b\b\b\b\b\b\b\r11/17 [==================>...........] - ETA: 8s - loss: 1.7837 - acc: 0.2719",
      "\b\b\b\b\b\b\b\b\b\b\b\b\b\b\b\b\b\b\b\b\b\b\b\b\b\b\b\b\b\b\b\b\b\b\b\b\b\b\b\b\b\b\b\b\b\b\b\b\b\b\b\b\b\b\b\b\b\b\b\b\b\b\b\b\b\b\b\b\b\b\b\b\b\b\b\b\b\r12/17 [====================>.........] - ETA: 7s - loss: 1.7868 - acc: 0.2658",
      "\b\b\b\b\b\b\b\b\b\b\b\b\b\b\b\b\b\b\b\b\b\b\b\b\b\b\b\b\b\b\b\b\b\b\b\b\b\b\b\b\b\b\b\b\b\b\b\b\b\b\b\b\b\b\b\b\b\b\b\b\b\b\b\b\b\b\b\b\b\b\b\b\b\b\b\b\b\r13/17 [=====================>........] - ETA: 5s - loss: 1.7866 - acc: 0.2696",
      "\b\b\b\b\b\b\b\b\b\b\b\b\b\b\b\b\b\b\b\b\b\b\b\b\b\b\b\b\b\b\b\b\b\b\b\b\b\b\b\b\b\b\b\b\b\b\b\b\b\b\b\b\b\b\b\b\b\b\b\b\b\b\b\b\b\b\b\b\b\b\b\b\b\b\b\b\b\r14/17 [=======================>......] - ETA: 4s - loss: 1.7865 - acc: 0.2681",
      "\b\b\b\b\b\b\b\b\b\b\b\b\b\b\b\b\b\b\b\b\b\b\b\b\b\b\b\b\b\b\b\b\b\b\b\b\b\b\b\b\b\b\b\b\b\b\b\b\b\b\b\b\b\b\b\b\b\b\b\b\b\b\b\b\b\b\b\b\b\b\b\b\b\b\b\b\b\r15/17 [=========================>....] - ETA: 2s - loss: 1.7930 - acc: 0.2669",
      "\b\b\b\b\b\b\b\b\b\b\b\b\b\b\b\b\b\b\b\b\b\b\b\b\b\b\b\b\b\b\b\b\b\b\b\b\b\b\b\b\b\b\b\b\b\b\b\b\b\b\b\b\b\b\b\b\b\b\b\b\b\b\b\b\b\b\b\b\b\b\b\b\b\b\b\b\b\r16/17 [===========================>..] - ETA: 1s - loss: 1.7968 - acc: 0.2678",
      "\b\b\b\b\b\b\b\b\b\b\b\b\b\b\b\b\b\b\b\b\b\b\b\b\b\b\b\b\b\b\b\b\b\b\b\b\b\b\b\b\b\b\b\b\b\b\b\b\b\b\b\b\b\b\b\b\b\b\b\b\b\b\b\b\b\b\b\b\b\b\b\b\b\b\b\b\b\r17/17 [==============================] - 26s 2s/step - loss: 1.7926 - acc: 0.2715 - val_loss: 1.8126 - val_acc: 0.3817\n",
      "Epoch 4/5\n",
      "\r 1/17 [>.............................] - ETA: 24s - loss: 1.8018 - acc: 0.2969",
      "\b\b\b\b\b\b\b\b\b\b\b\b\b\b\b\b\b\b\b\b\b\b\b\b\b\b\b\b\b\b\b\b\b\b\b\b\b\b\b\b\b\b\b\b\b\b\b\b\b\b\b\b\b\b\b\b\b\b\b\b\b\b\b\b\b\b\b\b\b\b\b\b\b\b\b\b\b\b\r 2/17 [==>...........................] - ETA: 22s - loss: 1.8669 - acc: 0.2500",
      "\b\b\b\b\b\b\b\b\b\b\b\b\b\b\b\b\b\b\b\b\b\b\b\b\b\b\b\b\b\b\b\b\b\b\b\b\b\b\b\b\b\b\b\b\b\b\b\b\b\b\b\b\b\b\b\b\b\b\b\b\b\b\b\b\b\b\b\b\b\b\b\b\b\b\b\b\b\b\r 3/17 [====>.........................] - ETA: 20s - loss: 1.8376 - acc: 0.2552",
      "\b\b\b\b\b\b\b\b\b\b\b\b\b\b\b\b\b\b\b\b\b\b\b\b\b\b\b\b\b\b\b\b\b\b\b\b\b\b\b\b\b\b\b\b\b\b\b\b\b\b\b\b\b\b\b\b\b\b\b\b\b\b\b\b\b\b\b\b\b\b\b\b\b\b\b\b\b\b\r 4/17 [======>.......................] - ETA: 19s - loss: 1.8290 - acc: 0.2500",
      "\b\b\b\b\b\b\b\b\b\b\b\b\b\b\b\b\b\b\b\b\b\b\b\b\b\b\b\b\b\b\b\b\b\b\b\b\b\b\b\b\b\b\b\b\b\b\b\b\b\b\b\b\b\b\b\b\b\b\b\b\b\b\b\b\b\b\b\b\b\b\b\b\b\b\b\b\b\b\r 5/17 [=======>......................] - ETA: 17s - loss: 1.8014 - acc: 0.2594",
      "\b\b\b\b\b\b\b\b\b\b\b\b\b\b\b\b\b\b\b\b\b\b\b\b\b\b\b\b\b\b\b\b\b\b\b\b\b\b\b\b\b\b\b\b\b\b\b\b\b\b\b\b\b\b\b\b\b\b\b\b\b\b\b\b\b\b\b\b\b\b\b\b\b\b\b\b\b\b\r 6/17 [=========>....................] - ETA: 16s - loss: 1.7819 - acc: 0.2734",
      "\b\b\b\b\b\b\b\b\b\b\b\b\b\b\b\b\b\b\b\b\b\b\b\b\b\b\b\b\b\b\b\b\b\b\b\b\b\b\b\b\b\b\b\b\b\b\b\b\b\b\b\b\b\b\b\b\b\b\b\b\b\b\b\b\b\b\b\b\b\b\b\b\b\b\b\b\b\b\r 7/17 [===========>..................] - ETA: 14s - loss: 1.7928 - acc: 0.2612",
      "\b\b\b\b\b\b\b\b\b\b\b\b\b\b\b\b\b\b\b\b\b\b\b\b\b\b\b\b\b\b\b\b\b\b\b\b\b\b\b\b\b\b\b\b\b\b\b\b\b\b\b\b\b\b\b\b\b\b\b\b\b\b\b\b\b\b\b\b\b\b\b\b\b\b\b\b\b\b\r 8/17 [=============>................] - ETA: 13s - loss: 1.7709 - acc: 0.2676",
      "\b\b\b\b\b\b\b\b\b\b\b\b\b\b\b\b\b\b\b\b\b\b\b\b\b\b\b\b\b\b\b\b\b\b\b\b\b\b\b\b\b\b\b\b\b\b\b\b\b\b\b\b\b\b\b\b\b\b\b\b\b\b\b\b\b\b\b\b\b\b\b\b\b\b\b\b\b\b\r 9/17 [==============>...............] - ETA: 11s - loss: 1.7698 - acc: 0.2656",
      "\b\b\b\b\b\b\b\b\b\b\b\b\b\b\b\b\b\b\b\b\b\b\b\b\b\b\b\b\b\b\b\b\b\b\b\b\b\b\b\b\b\b\b\b\b\b\b\b\b\b\b\b\b\b\b\b\b\b\b\b\b\b\b\b\b\b\b\b\b\b\b\b\b\b\b\b\b\b\r10/17 [================>.............] - ETA: 10s - loss: 1.7721 - acc: 0.2641",
      "\b\b\b\b\b\b\b\b\b\b\b\b\b\b\b\b\b\b\b\b\b\b\b\b\b\b\b\b\b\b\b\b\b\b\b\b\b\b\b\b\b\b\b\b\b\b\b\b\b\b\b\b\b\b\b\b\b\b\b\b\b\b\b\b\b\b\b\b\b\b\b\b\b\b\b\b\b\b\r11/17 [==================>...........] - ETA: 8s - loss: 1.7823 - acc: 0.2642 ",
      "\b\b\b\b\b\b\b\b\b\b\b\b\b\b\b\b\b\b\b\b\b\b\b\b\b\b\b\b\b\b\b\b\b\b\b\b\b\b\b\b\b\b\b\b\b\b\b\b\b\b\b\b\b\b\b\b\b\b\b\b\b\b\b\b\b\b\b\b\b\b\b\b\b\b\b\b\b\r12/17 [====================>.........] - ETA: 7s - loss: 1.7828 - acc: 0.2669",
      "\b\b\b\b\b\b\b\b\b\b\b\b\b\b\b\b\b\b\b\b\b\b\b\b\b\b\b\b\b\b\b\b\b\b\b\b\b\b\b\b\b\b\b\b\b\b\b\b\b\b\b\b\b\b\b\b\b\b\b\b\b\b\b\b\b\b\b\b\b\b\b\b\b\b\b\b\b\r13/17 [=====================>........] - ETA: 5s - loss: 1.7836 - acc: 0.2656",
      "\b\b\b\b\b\b\b\b\b\b\b\b\b\b\b\b\b\b\b\b\b\b\b\b\b\b\b\b\b\b\b\b\b\b\b\b\b\b\b\b\b\b\b\b\b\b\b\b\b\b\b\b\b\b\b\b\b\b\b\b\b\b\b\b\b\b\b\b\b\b\b\b\b\b\b\b\b\r14/17 [=======================>......] - ETA: 4s - loss: 1.7857 - acc: 0.2656",
      "\b\b\b\b\b\b\b\b\b\b\b\b\b\b\b\b\b\b\b\b\b\b\b\b\b\b\b\b\b\b\b\b\b\b\b\b\b\b\b\b\b\b\b\b\b\b\b\b\b\b\b\b\b\b\b\b\b\b\b\b\b\b\b\b\b\b\b\b\b\b\b\b\b\b\b\b\b\r15/17 [=========================>....] - ETA: 2s - loss: 1.7819 - acc: 0.2635",
      "\b\b\b\b\b\b\b\b\b\b\b\b\b\b\b\b\b\b\b\b\b\b\b\b\b\b\b\b\b\b\b\b\b\b\b\b\b\b\b\b\b\b\b\b\b\b\b\b\b\b\b\b\b\b\b\b\b\b\b\b\b\b\b\b\b\b\b\b\b\b\b\b\b\b\b\b\b\r16/17 [===========================>..] - ETA: 1s - loss: 1.7947 - acc: 0.2617",
      "\b\b\b\b\b\b\b\b\b\b\b\b\b\b\b\b\b\b\b\b\b\b\b\b\b\b\b\b\b\b\b\b\b\b\b\b\b\b\b\b\b\b\b\b\b\b\b\b\b\b\b\b\b\b\b\b\b\b\b\b\b\b\b\b\b\b\b\b\b\b\b\b\b\b\b\b\b\r17/17 [==============================] - 25s 1s/step - loss: 1.7910 - acc: 0.2648 - val_loss: 1.8079 - val_acc: 0.2137\n",
      "Epoch 5/5\n",
      "\r 1/17 [>.............................] - ETA: 23s - loss: 1.8083 - acc: 0.2656",
      "\b\b\b\b\b\b\b\b\b\b\b\b\b\b\b\b\b\b\b\b\b\b\b\b\b\b\b\b\b\b\b\b\b\b\b\b\b\b\b\b\b\b\b\b\b\b\b\b\b\b\b\b\b\b\b\b\b\b\b\b\b\b\b\b\b\b\b\b\b\b\b\b\b\b\b\b\b\b\r 2/17 [==>...........................] - ETA: 22s - loss: 1.7749 - acc: 0.2734",
      "\b\b\b\b\b\b\b\b\b\b\b\b\b\b\b\b\b\b\b\b\b\b\b\b\b\b\b\b\b\b\b\b\b\b\b\b\b\b\b\b\b\b\b\b\b\b\b\b\b\b\b\b\b\b\b\b\b\b\b\b\b\b\b\b\b\b\b\b\b\b\b\b\b\b\b\b\b\b\r 3/17 [====>.........................] - ETA: 21s - loss: 1.7915 - acc: 0.2604",
      "\b\b\b\b\b\b\b\b\b\b\b\b\b\b\b\b\b\b\b\b\b\b\b\b\b\b\b\b\b\b\b\b\b\b\b\b\b\b\b\b\b\b\b\b\b\b\b\b\b\b\b\b\b\b\b\b\b\b\b\b\b\b\b\b\b\b\b\b\b\b\b\b\b\b\b\b\b\b\r 4/17 [======>.......................] - ETA: 19s - loss: 1.7771 - acc: 0.2852",
      "\b\b\b\b\b\b\b\b\b\b\b\b\b\b\b\b\b\b\b\b\b\b\b\b\b\b\b\b\b\b\b\b\b\b\b\b\b\b\b\b\b\b\b\b\b\b\b\b\b\b\b\b\b\b\b\b\b\b\b\b\b\b\b\b\b\b\b\b\b\b\b\b\b\b\b\b\b\b\r 5/17 [=======>......................] - ETA: 17s - loss: 1.7948 - acc: 0.2719",
      "\b\b\b\b\b\b\b\b\b\b\b\b\b\b\b\b\b\b\b\b\b\b\b\b\b\b\b\b\b\b\b\b\b\b\b\b\b\b\b\b\b\b\b\b\b\b\b\b\b\b\b\b\b\b\b\b\b\b\b\b\b\b\b\b\b\b\b\b\b\b\b\b\b\b\b\b\b\b\r 6/17 [=========>....................] - ETA: 16s - loss: 1.8111 - acc: 0.2630",
      "\b\b\b\b\b\b\b\b\b\b\b\b\b\b\b\b\b\b\b\b\b\b\b\b\b\b\b\b\b\b\b\b\b\b\b\b\b\b\b\b\b\b\b\b\b\b\b\b\b\b\b\b\b\b\b\b\b\b\b\b\b\b\b\b\b\b\b\b\b\b\b\b\b\b\b\b\b\b\r 7/17 [===========>..................] - ETA: 14s - loss: 1.8139 - acc: 0.2545",
      "\b\b\b\b\b\b\b\b\b\b\b\b\b\b\b\b\b\b\b\b\b\b\b\b\b\b\b\b\b\b\b\b\b\b\b\b\b\b\b\b\b\b\b\b\b\b\b\b\b\b\b\b\b\b\b\b\b\b\b\b\b\b\b\b\b\b\b\b\b\b\b\b\b\b\b\b\b\b\r 8/17 [=============>................] - ETA: 13s - loss: 1.8080 - acc: 0.2578",
      "\b\b\b\b\b\b\b\b\b\b\b\b\b\b\b\b\b\b\b\b\b\b\b\b\b\b\b\b\b\b\b\b\b\b\b\b\b\b\b\b\b\b\b\b\b\b\b\b\b\b\b\b\b\b\b\b\b\b\b\b\b\b\b\b\b\b\b\b\b\b\b\b\b\b\b\b\b\b\r 9/17 [==============>...............] - ETA: 12s - loss: 1.7974 - acc: 0.2569",
      "\b\b\b\b\b\b\b\b\b\b\b\b\b\b\b\b\b\b\b\b\b\b\b\b\b\b\b\b\b\b\b\b\b\b\b\b\b\b\b\b\b\b\b\b\b\b\b\b\b\b\b\b\b\b\b\b\b\b\b\b\b\b\b\b\b\b\b\b\b\b\b\b\b\b\b\b\b\b\r10/17 [================>.............] - ETA: 9s - loss: 1.8178 - acc: 0.2525 ",
      "\b\b\b\b\b\b\b\b\b\b\b\b\b\b\b\b\b\b\b\b\b\b\b\b\b\b\b\b\b\b\b\b\b\b\b\b\b\b\b\b\b\b\b\b\b\b\b\b\b\b\b\b\b\b\b\b\b\b\b\b\b\b\b\b\b\b\b\b\b\b\b\b\b\b\b\b\b\r11/17 [==================>...........] - ETA: 8s - loss: 1.8192 - acc: 0.2477",
      "\b\b\b\b\b\b\b\b\b\b\b\b\b\b\b\b\b\b\b\b\b\b\b\b\b\b\b\b\b\b\b\b\b\b\b\b\b\b\b\b\b\b\b\b\b\b\b\b\b\b\b\b\b\b\b\b\b\b\b\b\b\b\b\b\b\b\b\b\b\b\b\b\b\b\b\b\b\r12/17 [====================>.........] - ETA: 7s - loss: 1.8145 - acc: 0.2507",
      "\b\b\b\b\b\b\b\b\b\b\b\b\b\b\b\b\b\b\b\b\b\b\b\b\b\b\b\b\b\b\b\b\b\b\b\b\b\b\b\b\b\b\b\b\b\b\b\b\b\b\b\b\b\b\b\b\b\b\b\b\b\b\b\b\b\b\b\b\b\b\b\b\b\b\b\b\b\r13/17 [=====================>........] - ETA: 5s - loss: 1.8145 - acc: 0.2519",
      "\b\b\b\b\b\b\b\b\b\b\b\b\b\b\b\b\b\b\b\b\b\b\b\b\b\b\b\b\b\b\b\b\b\b\b\b\b\b\b\b\b\b\b\b\b\b\b\b\b\b\b\b\b\b\b\b\b\b\b\b\b\b\b\b\b\b\b\b\b\b\b\b\b\b\b\b\b\r14/17 [=======================>......] - ETA: 4s - loss: 1.8102 - acc: 0.2576",
      "\b\b\b\b\b\b\b\b\b\b\b\b\b\b\b\b\b\b\b\b\b\b\b\b\b\b\b\b\b\b\b\b\b\b\b\b\b\b\b\b\b\b\b\b\b\b\b\b\b\b\b\b\b\b\b\b\b\b\b\b\b\b\b\b\b\b\b\b\b\b\b\b\b\b\b\b\b\r15/17 [=========================>....] - ETA: 2s - loss: 1.8117 - acc: 0.2571",
      "\b\b\b\b\b\b\b\b\b\b\b\b\b\b\b\b\b\b\b\b\b\b\b\b\b\b\b\b\b\b\b\b\b\b\b\b\b\b\b\b\b\b\b\b\b\b\b\b\b\b\b\b\b\b\b\b\b\b\b\b\b\b\b\b\b\b\b\b\b\b\b\b\b\b\b\b\b\r16/17 [===========================>..] - ETA: 1s - loss: 1.8054 - acc: 0.2587",
      "\b\b\b\b\b\b\b\b\b\b\b\b\b\b\b\b\b\b\b\b\b\b\b\b\b\b\b\b\b\b\b\b\b\b\b\b\b\b\b\b\b\b\b\b\b\b\b\b\b\b\b\b\b\b\b\b\b\b\b\b\b\b\b\b\b\b\b\b\b\b\b\b\b\b\b\b\b\r17/17 [==============================] - 26s 2s/step - loss: 1.8001 - acc: 0.2620 - val_loss: 1.7629 - val_acc: 0.2061\n",
      "\r 32/131 [======>.......................] - ETA: 0s - loss: 1.8780 - acc: 0.3750",
      "\b\b\b\b\b\b\b\b\b\b\b\b\b\b\b\b\b\b\b\b\b\b\b\b\b\b\b\b\b\b\b\b\b\b\b\b\b\b\b\b\b\b\b\b\b\b\b\b\b\b\b\b\b\b\b\b\b\b\b\b\b\b\b\b\b\b\b\b\b\b\b\b\b\b\b\b\b\b\b\r 64/131 [=============>................] - ETA: 0s - loss: 1.9423 - acc: 0.3281",
      "\b\b\b\b\b\b\b\b\b\b\b\b\b\b\b\b\b\b\b\b\b\b\b\b\b\b\b\b\b\b\b\b\b\b\b\b\b\b\b\b\b\b\b\b\b\b\b\b\b\b\b\b\b\b\b\b\b\b\b\b\b\b\b\b\b\b\b\b\b\b\b\b\b\b\b\b\b\b\b\r 96/131 [====================>.........] - ETA: 0s - loss: 1.9765 - acc: 0.3021",
      "\b\b\b\b\b\b\b\b\b\b\b\b\b\b\b\b\b\b\b\b\b\b\b\b\b\b\b\b\b\b\b\b\b\b\b\b\b\b\b\b\b\b\b\b\b\b\b\b\b\b\b\b\b\b\b\b\b\b\b\b\b\b\b\b\b\b\b\b\b\b\b\b\b\b\b\b\b\b\b\r128/131 [============================>.] - ETA: 0s - loss: 2.0103 - acc: 0.2266",
      "\b\b\b\b\b\b\b\b\b\b\b\b\b\b\b\b\b\b\b\b\b\b\b\b\b\b\b\b\b\b\b\b\b\b\b\b\b\b\b\b\b\b\b\b\b\b\b\b\b\b\b\b\b\b\b\b\b\b\b\b\b\b\b\b\b\b\b\b\b\b\b\b\b\b\b\b\b\b\b\r131/131 [==============================] - 1s 7ms/sample - loss: 2.0086 - acc: 0.2290\n",
      "[2.0085746177280224, 0.22900763]\n"
     ],
     "output_type": "stream"
    },
    {
     "data": {
      "text/plain": "<Figure size 800x500 with 1 Axes>"
     },
     "metadata": {},
     "output_type": "display_data"
    }
   ],
   "source": [
    "%run -i cnn.py"
   ]
  },
  {
   "cell_type": "code",
   "execution_count": null,
   "outputs": [],
   "source": [
    "from cnn_vis import vis\n",
    "vis(model)"
   ],
   "metadata": {
    "collapsed": false,
    "pycharm": {
     "name": "#%%\n"
    }
   }
  },
  {
   "cell_type": "code",
   "execution_count": 3,
   "outputs": [
    {
     "traceback": [
      "\u001b[0;31m---------------------------------------------------------------------------\u001b[0m",
      "\u001b[0;31mTypeError\u001b[0m                                 Traceback (most recent call last)",
      "\u001b[0;32m~/PycharmProjects/EmotionRecognition/cnn.py\u001b[0m in \u001b[0;36m<module>\u001b[0;34m\u001b[0m\n\u001b[0;32m----> 1\u001b[0;31m \u001b[0mmodel\u001b[0m\u001b[0;34m.\u001b[0m\u001b[0mhistory\u001b[0m\u001b[0;34m[\u001b[0m\u001b[0;34m'acc'\u001b[0m\u001b[0;34m]\u001b[0m\u001b[0;34m\u001b[0m\u001b[0;34m\u001b[0m\u001b[0m\n\u001b[0m",
      "\u001b[0;31mTypeError\u001b[0m: 'History' object is not subscriptable"
     ],
     "ename": "TypeError",
     "evalue": "'History' object is not subscriptable",
     "output_type": "error"
    }
   ],
   "source": [
    "model.history['acc']"
   ],
   "metadata": {
    "collapsed": false,
    "pycharm": {
     "name": "#%%\n",
     "is_executing": false
    }
   }
  },
  {
   "cell_type": "code",
   "execution_count": 3,
   "metadata": {},
   "outputs": [
    {
     "name": "stdout",
     "output_type": "stream",
     "text": [
      "data/jaffe/KA.AN1.39.tiff  disgust\n",
      "data/jaffe/KA.AN2.40.tiff  disgust\n",
      "data/jaffe/KA.AN3.41.tiff  disgust\n",
      "data/jaffe/YM.DI1.64.tiff  disgust\n",
      "data/jaffe/YM.DI2.65.tiff  disgust\n",
      "data/jaffe/YM.DI3.66.tiff  disgust\n",
      "data/jaffe/KM.FE1.23.tiff  happy\n",
      "data/jaffe/KM.FE2.24.tiff  happy\n",
      "data/jaffe/KM.FE3.25.tiff  happy\n",
      "data/jaffe/MK.HA1.116.tiff  happy\n",
      "data/jaffe/MK.HA2.117.tiff  happy\n",
      "data/jaffe/MK.HA3.118.tiff  happy\n",
      "data/jaffe/KR.NE1.71.tiff  surprise\n",
      "data/jaffe/KR.NE2.72.tiff  surprise\n",
      "data/jaffe/KR.NE3.73.tiff  surprise\n",
      "data/jaffe/NA.SA1.205.tiff  happy\n",
      "data/jaffe/NA.SA2.206.tiff  disgust\n",
      "data/jaffe/NA.SA3.207.tiff  disgust\n",
      "data/jaffe/NM.SU1.101.tiff  happy\n",
      "data/jaffe/NM.SU2.102.tiff  happy\n",
      "data/jaffe/NM.SU3.103.tiff  disgust\n"
     ]
    }
   ],
   "source": [
    "from extract_data import get_relevant_image\n",
    "test_img_paths=['data/jaffe/KA.AN1.39.tiff','data/jaffe/KA.AN2.40.tiff','data/jaffe/KA.AN3.41.tiff',\n",
    "               'data/jaffe/YM.DI1.64.tiff','data/jaffe/YM.DI2.65.tiff','data/jaffe/YM.DI3.66.tiff',\n",
    "               'data/jaffe/KM.FE1.23.tiff','data/jaffe/KM.FE2.24.tiff','data/jaffe/KM.FE3.25.tiff',\n",
    "               'data/jaffe/MK.HA1.116.tiff','data/jaffe/MK.HA2.117.tiff','data/jaffe/MK.HA3.118.tiff',\n",
    "               'data/jaffe/KR.NE1.71.tiff','data/jaffe/KR.NE2.72.tiff','data/jaffe/KR.NE3.73.tiff',\n",
    "               'data/jaffe/NA.SA1.205.tiff','data/jaffe/NA.SA2.206.tiff','data/jaffe/NA.SA3.207.tiff',\n",
    "               'data/jaffe/NM.SU1.101.tiff','data/jaffe/NM.SU2.102.tiff','data/jaffe/NM.SU3.103.tiff']\n",
    "\n",
    "x_test_new=np.array([get_relevant_image(img_path) for img_path in test_img_paths], dtype='float32')\n",
    "\n",
    "# 0=neutral, 1=anger, 2=contempt, 3=disgust, 4=fear, 5=happy, 6=sadness, 7=surprise\n",
    "em_titles=['neutral', 'anger', 'contempt', 'disgust', 'fear', 'happy', 'sadness', 'surprise']\n",
    "ems_predicted=model.predict_classes(x_test_new)\n",
    "for path,em_predicted in zip(test_img_paths,ems_predicted):\n",
    "    print(f'{path}  {em_titles[em_predicted]}')"
   ]
  },
  {
   "cell_type": "code",
   "execution_count": 4,
   "metadata": {
    "pycharm": {
     "is_executing": false,
     "name": "#%%\n"
    }
   },
   "outputs": [
    {
     "name": "stdout",
     "output_type": "stream",
     "text": [
      "[2 5 2]\n"
     ]
    }
   ],
   "source": [
    "from extract_data import get_relevant_image\n",
    "img1 = get_relevant_image('data/test/test_1.png')\n",
    "img2 = get_relevant_image('data/test/test_2.png')\n",
    "img3 = get_relevant_image('data/test/test_3.png')\n",
    "\n",
    "xx=[img1,img2,img3]\n",
    "x1=np.array(xx, dtype='float32')\n",
    "print(model.predict_classes(x1))\n",
    "\n",
    "\n"
   ]
  },
  {
   "cell_type": "code",
   "execution_count": null,
   "metadata": {},
   "outputs": [],
   "source": []
  }
 ],
 "metadata": {
  "kernelspec": {
   "display_name": "Python 3",
   "language": "python",
   "name": "python3"
  },
  "language_info": {
   "codemirror_mode": {
    "name": "ipython",
    "version": 3
   },
   "file_extension": ".py",
   "mimetype": "text/x-python",
   "name": "python",
   "nbconvert_exporter": "python",
   "pygments_lexer": "ipython3",
   "version": "3.7.3"
  },
  "pycharm": {
   "stem_cell": {
    "cell_type": "raw",
    "source": [],
    "metadata": {
     "collapsed": false
    }
   }
  }
 },
 "nbformat": 4,
 "nbformat_minor": 1
}